{
  "metadata": {
    "language_info": {
      "codemirror_mode": {
        "name": "python",
        "version": 3
      },
      "file_extension": ".py",
      "mimetype": "text/x-python",
      "name": "python",
      "nbconvert_exporter": "python",
      "pygments_lexer": "ipython3",
      "version": "3.8"
    },
    "kernelspec": {
      "name": "python",
      "display_name": "Python (Pyodide)",
      "language": "python"
    }
  },
  "nbformat_minor": 4,
  "nbformat": 4,
  "cells": [
    {
      "cell_type": "markdown",
      "source": "1. A permutation perm of n + 1 integers of all the integers in the range [0, n] can be represented as a string s of length n where:\n\n- s[i] == 'I' if perm[i] < perm[i + 1], and\n- s[i] == 'D' if perm[i] > perm[i + 1].\n\nGiven a string s, reconstruct the permutation perm and return it. If there are multiple valid permutations perm, return **any of them**.\n\n**Example 1:**\n\n**Input:** s = \"IDID\"\n\n**Output:**\n\n[0,4,1,3,2]",
      "metadata": {}
    },
    {
      "cell_type": "code",
      "source": "def findPermutation(s):\n    n = len(s)\n    perm = []\n    current_min = 0\n    current_max = n\n\n    for ch in s:\n        if ch == 'I':\n            perm.append(current_min)\n            current_min += 1\n        elif ch == 'D':\n            perm.append(current_max)\n            current_max -= 1\n\n    perm.append(current_min)\n\n    return perm\n",
      "metadata": {
        "trusted": true
      },
      "execution_count": 1,
      "outputs": []
    },
    {
      "cell_type": "code",
      "source": "s = \"IDID\"\nprint(findPermutation(s))\n",
      "metadata": {
        "trusted": true
      },
      "execution_count": 2,
      "outputs": [
        {
          "name": "stdout",
          "text": "[0, 4, 1, 3, 2]\n",
          "output_type": "stream"
        }
      ]
    },
    {
      "cell_type": "code",
      "source": "",
      "metadata": {},
      "execution_count": null,
      "outputs": []
    },
    {
      "cell_type": "markdown",
      "source": "💡 **Question 2**\n\nYou are given an m x n integer matrix matrix with the following two properties:\n\n- Each row is sorted in non-decreasing order.\n- The first integer of each row is greater than the last integer of the previous row.\n\nGiven an integer target, return true *if* target *is in* matrix *or* false *otherwise*.\n\nYou must write a solution in O(log(m * n)) time complexity.\n\n</aside>**Input:** matrix = [[1,3,5,7],[10,11,16,20],[23,30,34,60]], target = 3\n\n**Output:** true",
      "metadata": {}
    },
    {
      "cell_type": "code",
      "source": "def searchMatrix(matrix, target):\n    if not matrix or not matrix[0]:\n        return False\n\n    m, n = len(matrix), len(matrix[0])\n    left, right = 0, m * n - 1\n\n    while left <= right:\n        mid = left + (right - left) // 2\n        row = mid // n\n        col = mid % n\n\n        if matrix[row][col] == target:\n            return True\n        elif matrix[row][col] < target:\n            left = mid + 1\n        else:\n            right = mid - 1\n\n    return False\n",
      "metadata": {
        "trusted": true
      },
      "execution_count": 3,
      "outputs": []
    },
    {
      "cell_type": "code",
      "source": "matrix = [[1, 3, 5, 7], [10, 11, 16, 20], [23, 30, 34, 60]]\ntarget = 3\nprint(searchMatrix(matrix, target))\n",
      "metadata": {
        "trusted": true
      },
      "execution_count": 4,
      "outputs": [
        {
          "name": "stdout",
          "text": "True\n",
          "output_type": "stream"
        }
      ]
    },
    {
      "cell_type": "code",
      "source": "",
      "metadata": {},
      "execution_count": null,
      "outputs": []
    },
    {
      "cell_type": "markdown",
      "source": "question 3. Given an array of integers arr, return *true if and only if it is a valid mountain array*.\n\nRecall that arr is a mountain array if and only if:\n\n- arr.length >= 3\n- There exists some i with 0 < i < arr.length - 1 such that:\n    - arr[0] < arr[1] < ... < arr[i - 1] < arr[i]\n    - arr[i] > arr[i + 1] > ... > arr[arr.length - 1] **Example 1:**\n\n**Input:** arr = [2,1]\n\n**Output:**\n\nfalse",
      "metadata": {}
    },
    {
      "cell_type": "code",
      "source": "def validMountainArray(arr):\n    n = len(arr)\n    if n < 3:\n        return False\n\n    left = 0\n    right = n - 1\n\n    while left < right and arr[left] < arr[left + 1]:\n        left += 1\n\n    while right > left and arr[right - 1] > arr[right]:\n        right -= 1\n\n    return left == right and left != 0 and right != n - 1\n\n",
      "metadata": {
        "trusted": true
      },
      "execution_count": 5,
      "outputs": []
    },
    {
      "cell_type": "code",
      "source": "arr = [2, 1]\nprint(validMountainArray(arr))\n",
      "metadata": {
        "trusted": true
      },
      "execution_count": 6,
      "outputs": [
        {
          "name": "stdout",
          "text": "False\n",
          "output_type": "stream"
        }
      ]
    },
    {
      "cell_type": "code",
      "source": "",
      "metadata": {},
      "execution_count": null,
      "outputs": []
    },
    {
      "cell_type": "markdown",
      "source": "<aside>\n💡 **Question 4**\n\nGiven a binary array nums, return *the maximum length of a contiguous subarray with an equal number of* 0 *and* 1.\n\n**Example 1:**\n\n**Input:** nums = [0,1]\n\n**Output:** 2\n\n**Explanation:**\n\n[0, 1] is the longest contiguous subarray with an equal number of 0 and 1.\n\n</aside>",
      "metadata": {}
    },
    {
      "cell_type": "code",
      "source": "def findMaxLength(nums):\n    count_map = {0: -1}\n    max_length = 0\n    count = 0\n\n    for i, num in enumerate(nums):\n        count += 1 if num == 0 else -1\n\n        if count in count_map:\n            max_length = max(max_length, i - count_map[count])\n        else:\n            count_map[count] = i\n\n    return max_length\n",
      "metadata": {
        "trusted": true
      },
      "execution_count": 7,
      "outputs": []
    },
    {
      "cell_type": "code",
      "source": "nums = [0, 1]\nprint(findMaxLength(nums))\n",
      "metadata": {
        "trusted": true
      },
      "execution_count": 8,
      "outputs": [
        {
          "name": "stdout",
          "text": "2\n",
          "output_type": "stream"
        }
      ]
    },
    {
      "cell_type": "code",
      "source": "",
      "metadata": {},
      "execution_count": null,
      "outputs": []
    },
    {
      "cell_type": "markdown",
      "source": "<aside>\n💡 **Question 5**\n\nThe **product sum** of two equal-length arrays a and b is equal to the sum of a[i] * b[i] for all 0 <= i < a.length (**0-indexed**).\n\n- For example, if a = [1,2,3,4] and b = [5,2,3,1], the **product sum** would be 1*5 + 2*2 + 3*3 + 4*1 = 22.\n\nGiven two arrays nums1 and nums2 of length n, return *the **minimum product sum** if you are allowed to **rearrange** the **order** of the elements in* nums1.\n\n**Example 1:**\n\n**Input:** nums1 = [5,3,4,2], nums2 = [4,2,2,5]\n\n**Output:** 40\n\n**Explanation:**\n\nWe can rearrange nums1 to become [3,5,4,2]. The product sum of [3,5,4,2] and [4,2,2,5] is 3*4 + 5*2 + 4*2 + 2*5 = 40.\n\n</aside>",
      "metadata": {}
    },
    {
      "cell_type": "code",
      "source": "def minProductSum(nums1, nums2):\n    nums1.sort()\n    nums2.sort(reverse=True)\n\n    min_product_sum = 0\n    n = len(nums1)\n\n    for i in range(n):\n        min_product_sum += nums1[i] * nums2[n - i - 1]\n\n    return min_product_sum\n",
      "metadata": {
        "trusted": true
      },
      "execution_count": 9,
      "outputs": []
    },
    {
      "cell_type": "code",
      "source": "nums1 = [5, 3, 4, 2]\nnums2 = [4, 2, 2, 5]\nprint(minProductSum(nums1, nums2))\n",
      "metadata": {
        "trusted": true
      },
      "execution_count": 28,
      "outputs": [
        {
          "name": "stdout",
          "text": "51\n",
          "output_type": "stream"
        }
      ]
    },
    {
      "cell_type": "code",
      "source": "",
      "metadata": {},
      "execution_count": null,
      "outputs": []
    },
    {
      "cell_type": "markdown",
      "source": "<aside>\n💡 **Question 6**\n\nAn integer array original is transformed into a **doubled** array changed by appending **twice the value** of every element in original, and then randomly **shuffling** the resulting array.\n\nGiven an array changed, return original *if* changed *is a **doubled** array. If* changed *is not a **doubled** array, return an empty array. The elements in* original *may be returned in **any** order*.\n\n**Example 1:**\n\n**Input:** changed = [1,3,4,2,6,8]\n\n**Output:** [1,3,4]\n\n**Explanation:** One possible original array could be [1,3,4]:\n\n- Twice the value of 1 is 1 * 2 = 2.\n- Twice the value of 3 is 3 * 2 = 6.\n- Twice the value of 4 is 4 * 2 = 8.\n\nOther original arrays could be [4,3,1] or [3,1,4].\n\n</aside>",
      "metadata": {}
    },
    {
      "cell_type": "code",
      "source": "from collections import Counter\n\ndef findOriginalArray(changed):\n# Check if the length of the changed array is even\n    if len(changed) % 2 != 0:\n        return []\n    changed_count = Counter(changed)\n\n    original = []\n    for num in changed:\n# Check if the current element has already been used in the original array\n        if changed_count[num] == 0:\n            continue\n\n# Check if the element's doubled value is present in the changed array\n        doubled_value = num * 2\n        if changed_count[doubled_value] > 0:\n            original.append(num)\n            changed_count[num] -= 1\n            changed_count[doubled_value] -= 1\n        else:\n# If the doubled value is not found, return an empty array\n            return []\n\n    return original\n\n\n  \n",
      "metadata": {
        "trusted": true
      },
      "execution_count": 29,
      "outputs": []
    },
    {
      "cell_type": "code",
      "source": "changed = [1, 3, 4, 2, 6, 8]\nprint(findOriginalArray(changed))\n",
      "metadata": {
        "trusted": true
      },
      "execution_count": 30,
      "outputs": [
        {
          "name": "stdout",
          "text": "[1, 3, 4]\n",
          "output_type": "stream"
        }
      ]
    },
    {
      "cell_type": "code",
      "source": "",
      "metadata": {},
      "execution_count": null,
      "outputs": []
    },
    {
      "cell_type": "markdown",
      "source": "<aside>\n💡 **Question 7**\n\nGiven a positive integer n, generate an n x n matrix filled with elements from 1 to n2 in spiral order.\n\n**Example 1:**\n**Input:** n = 3\n\n**Output:** [[1,2,3],[8,9,4],[7,6,5]]\n</aside>\n\n",
      "metadata": {}
    },
    {
      "cell_type": "code",
      "source": "def generateMatrix(n):\n    matrix = [[0] * n for _ in range(n)]\n\n    row_start = 0\n    row_end = n - 1\n    col_start = 0\n    col_end = n - 1\n\n    num = 1\n\n    while row_start <= row_end and col_start <= col_end:\n        # Fill top row\n        for col in range(col_start, col_end + 1):\n            matrix[row_start][col] = num\n            num += 1\n        row_start += 1\n\n        # Fill right column\n        for row in range(row_start, row_end + 1):\n            matrix[row][col_end] = num\n            num += 1\n        col_end -= 1\n\n        # Fill bottom row\n        for col in range(col_end, col_start - 1, -1):\n            matrix[row_end][col] = num\n            num += 1\n        row_end -= 1\n\n        # Fill left column\n        for row in range(row_end, row_start - 1, -1):\n            matrix[row][col_start] = num\n            num += 1\n        col_start += 1\n\n    return matrix\n",
      "metadata": {
        "trusted": true
      },
      "execution_count": 31,
      "outputs": []
    },
    {
      "cell_type": "code",
      "source": "n = 3\nresult = generateMatrix(n)\nprint(result)\n",
      "metadata": {
        "trusted": true
      },
      "execution_count": 32,
      "outputs": [
        {
          "name": "stdout",
          "text": "[[1, 2, 3], [8, 9, 4], [7, 6, 5]]\n",
          "output_type": "stream"
        }
      ]
    },
    {
      "cell_type": "code",
      "source": "",
      "metadata": {},
      "execution_count": null,
      "outputs": []
    },
    {
      "cell_type": "markdown",
      "source": "<aside>\n💡 **Question 8**\n\nGiven two [sparse matrices](https://en.wikipedia.org/wiki/Sparse_matrix) mat1 of size m x k and mat2 of size k x n, return the result of mat1 x mat2. You may assume that multiplication is always possible.\n\n**Example 1:**\n**Input:** mat1 = [[1,0,0],[-1,0,3]], mat2 = [[7,0,0],[0,0,0],[0,0,1]]\n\n**Output:**\n\n[[7,0,0],[-7,0,3]]\n</aside>",
      "metadata": {}
    },
    {
      "cell_type": "code",
      "source": "def multiply(mat1, mat2):\n    m = len(mat1)\n    k = len(mat1[0])\n    n = len(mat2[0])\n\n    result = [[0] * n for _ in range(m)]\n\n    for i in range(m):\n        for j in range(n):\n            for x in range(k):\n                result[i][j] += mat1[i][x] * mat2[x][j]\n\n    return result\n",
      "metadata": {
        "trusted": true
      },
      "execution_count": 33,
      "outputs": []
    },
    {
      "cell_type": "code",
      "source": "mat1 = [[1, 0, 0], [-1, 0, 3]]\nmat2 = [[7, 0, 0], [0, 0, 0], [0, 0, 1]]\nresult = multiply(mat1, mat2)\nprint(result)\n",
      "metadata": {
        "trusted": true
      },
      "execution_count": 34,
      "outputs": [
        {
          "name": "stdout",
          "text": "[[7, 0, 0], [-7, 0, 3]]\n",
          "output_type": "stream"
        }
      ]
    },
    {
      "cell_type": "code",
      "source": "",
      "metadata": {},
      "execution_count": null,
      "outputs": []
    },
    {
      "cell_type": "code",
      "source": "",
      "metadata": {},
      "execution_count": null,
      "outputs": []
    },
    {
      "cell_type": "code",
      "source": "",
      "metadata": {},
      "execution_count": null,
      "outputs": []
    }
  ]
}